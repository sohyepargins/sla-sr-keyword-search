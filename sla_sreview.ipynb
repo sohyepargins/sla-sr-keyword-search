{
 "cells": [
  {
   "cell_type": "code",
   "execution_count": 1,
   "metadata": {},
   "outputs": [],
   "source": [
    "import os\n",
    "import pdfplumber"
   ]
  },
  {
   "cell_type": "code",
   "execution_count": 3,
   "metadata": {},
   "outputs": [],
   "source": [
    "directory = '/Users/sohyepark/Documents/llamaindex-helloworld/sla'\n",
    "keywords = ['lme4', 'generalized linear mixed models', 'hierarchical generalized linear models',\n",
    "            'multilevel generalized linear models', 'mixed-effects logistic regression models',\n",
    "            'nonlinear mixed effects', 'mixed effects logistic model',\n",
    "            'logistic mixed-effects models', 'linear mixed-effects']"
   ]
  },
  {
   "cell_type": "code",
   "execution_count": 4,
   "metadata": {},
   "outputs": [],
   "source": [
    "# Function to search keywords in a PDF\n",
    "def search_keywords(pdf_path, keywords):\n",
    "    found_keywords = []\n",
    "    with pdfplumber.open(pdf_path) as pdf:\n",
    "        for page in pdf.pages:\n",
    "            text = page.extract_text()\n",
    "            if text:\n",
    "                for keyword in keywords:\n",
    "                    if keyword.lower() in text.lower():\n",
    "                        found_keywords.append(keyword)\n",
    "                        break\n",
    "    return found_keywords"
   ]
  },
  {
   "cell_type": "code",
   "execution_count": 5,
   "metadata": {},
   "outputs": [
    {
     "name": "stdout",
     "output_type": "stream",
     "text": [
      "Keyword found in dissertation-article1.pdf: hierarchical generalized linear models, lme4, lme4, lme4, lme4\n",
      "Keyword found in Language Learning - 2022 - Cayado - The Influence of Prior Linguistic Knowledge on Second Language Semantic Implicit.pdf: linear mixed-effects, lme4, lme4\n",
      "Keyword found in dissertation-article2-debruine-barr-2021-understanding-mixed-effects-models-through-data-simulation.pdf: lme4, lme4, linear mixed-effects, lme4, linear mixed-effects, linear mixed-effects, linear mixed-effects, lme4, linear mixed-effects, lme4, lme4, lme4\n",
      "No keywords found in Language Learning - 2022 - In nami - Examining Second Language Listening and Metacognitive Awareness  A Meta‐Analytic.pdf\n",
      "No keywords found in Language Learning - 2022 - Nakata - Costs and Benefits of Spacing for Second Language Vocabulary Learning  Does Relearning.pdf\n",
      "Keyword found in Language Learning - 2022 - Bovolenta - Implicit Learning in Production  Productive Generalization of New Form Meaning.pdf: lme4, lme4\n",
      "Keyword found in Language Learning - 2022 - Torregrossa - Boosting Bilingual Metalinguistic Awareness Under Dual Language Activation  Some.pdf: lme4, linear mixed-effects, linear mixed-effects, lme4\n"
     ]
    }
   ],
   "source": [
    "# Iterate over PDF files in the directory\n",
    "for filename in os.listdir(directory):\n",
    "    if filename.endswith('.pdf'):\n",
    "        pdf_path = os.path.join(directory, filename)\n",
    "        result = search_keywords(pdf_path, keywords)\n",
    "        if result:\n",
    "            print(f\"Keyword found in {filename}: {', '.join(result)}\")\n",
    "        else:\n",
    "            print(f\"No keywords found in {filename}\")"
   ]
  },
  {
   "cell_type": "code",
   "execution_count": null,
   "metadata": {},
   "outputs": [],
   "source": []
  }
 ],
 "metadata": {
  "kernelspec": {
   "display_name": "llamaindex",
   "language": "python",
   "name": "python3"
  },
  "language_info": {
   "codemirror_mode": {
    "name": "ipython",
    "version": 3
   },
   "file_extension": ".py",
   "mimetype": "text/x-python",
   "name": "python",
   "nbconvert_exporter": "python",
   "pygments_lexer": "ipython3",
   "version": "3.10.11"
  }
 },
 "nbformat": 4,
 "nbformat_minor": 2
}
